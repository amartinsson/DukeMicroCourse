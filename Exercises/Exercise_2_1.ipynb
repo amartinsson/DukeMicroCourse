{
 "cells": [
  {
   "cell_type": "code",
   "execution_count": null,
   "metadata": {
    "collapsed": false
   },
   "outputs": [],
   "source": [
    "# import numpy and matplotlib\n",
    "import numpy as np\n",
    "import matplotlib.pyplot as plt\n",
    "import scipy.stats as scstats\n",
    "\n",
    "# import mini MD modules\n",
    "from miniMD import models\n",
    "from miniMD import samplers\n",
    "# import function to compute autocorrelation\n",
    "from miniMD.samplers import autocorr\n"
   ]
  },
  {
   "cell_type": "markdown",
   "metadata": {},
   "source": [
    "# Exercise 2.1\n",
    "The code below creates $N=100000$ independent samples drawn from a standard normal distribution, bins the samples, and plots the corresponding histogram against the exact PDF of a normal distsribution."
   ]
  },
  {
   "cell_type": "code",
   "execution_count": null,
   "metadata": {
    "collapsed": false
   },
   "outputs": [],
   "source": [
    "#Create iid samples  \n",
    "nsteps = 100000\n",
    "xiid = np.random.normal(0., 1., nsteps)\n",
    "\n",
    "# Bin samples\n",
    "qbins = np.linspace(-3,3,50)\n",
    "Hq = np.histogram(xiid,bins=qbins,density=True)[0]\n",
    "deltaq = qbins[1]-qbins[0]\n",
    "qcenter = .5*deltaq + qbins[:-1]\n",
    "\n",
    "#Plot results\n",
    "fig, ax = plt.subplots()\n",
    "ax.plot(qcenter,Hq,label=\"Empirical\")\n",
    "ax.plot(qcenter, scstats.norm.pdf(qcenter),label=\"Exact\")\n",
    "ax.legend()\n",
    "plt.show()"
   ]
  },
  {
   "cell_type": "markdown",
   "metadata": {},
   "source": [
    "## Task\n",
    "Repeat the above experiment but now using a samples generated using an (approximate) MCMC method, i.e., the BAOAB Langevin sampler (you can use the code below).\n",
    "- What do you observe?\n",
    "- Create trace plots of the trajectories both for the iid sample and the sample generated with BAOAB. What do you observe?\n",
    "- Change the values of the friction_constant and the stepsize. How does this effect appearance of the empirical distribution?\n",
    "\n",
    "You can use the code snipped \"autocorr(x_baoab[:,0],maxlag=100)\" to compute the autocorrelation for the BAOAB samples up to a maximum lag time specified by the argument maxlag. Can you characterise how the form of the autocorrelation function relates to the statistical properties of the sample?"
   ]
  },
  {
   "cell_type": "code",
   "execution_count": null,
   "metadata": {
    "collapsed": false
   },
   "outputs": [],
   "source": [
    "# Initial conditions for two particles\n",
    "q_0 = np.array([0.0])\n",
    "p_0 = np.array([0.0])\n",
    "# initialise the particle model\n",
    "model = models.HarmonicOscillator(q=q_0,p=p_0)\n",
    "# Sample using BAOAB\n",
    "sampler = samplers.BAOAB(model=model, \n",
    "                         stepsize=.1, \n",
    "                         inverse_temperature=1.0,\n",
    "                         friction_constant=1.0, \n",
    "                        ) \n",
    "x_baoab, p_baoab = sampler.sample(nsteps=100000)"
   ]
  },
  {
   "cell_type": "code",
   "execution_count": null,
   "metadata": {
    "collapsed": true
   },
   "outputs": [],
   "source": []
  }
 ],
 "metadata": {
  "anaconda-cloud": {},
  "kernelspec": {
   "display_name": "Python [conda env:anaconda]",
   "language": "python",
   "name": "conda-env-anaconda-py"
  },
  "language_info": {
   "codemirror_mode": {
    "name": "ipython",
    "version": 3
   },
   "file_extension": ".py",
   "mimetype": "text/x-python",
   "name": "python",
   "nbconvert_exporter": "python",
   "pygments_lexer": "ipython3",
   "version": "3.5.2"
  }
 },
 "nbformat": 4,
 "nbformat_minor": 2
}
