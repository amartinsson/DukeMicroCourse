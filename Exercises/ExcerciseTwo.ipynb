{
 "cells": [
  {
   "cell_type": "code",
   "execution_count": null,
   "metadata": {},
   "outputs": [],
   "source": [
    "# import numpy and matplotlib\n",
    "import numpy as np\n",
    "import matplotlib.pyplot as plt\n",
    "\n",
    "# import mini MD modules\n",
    "from miniMD import models\n",
    "from miniMD import samplers"
   ]
  },
  {
   "cell_type": "markdown",
   "metadata": {},
   "source": [
    "# Excercise 2.0:\n",
    "\n",
    "- Investigate the difference between the following three methods.\n",
    "    -  Leimkuhler-Matthews Method\n",
    "    -  Euler-Maruyama Method\n",
    "    -  Heuns Method\n",
    "\n",
    "The methods can be used by calling the following lines of code:\n",
    "\n",
    "**Note**: All these schemes are first order dynamics so they only operate on models initialised by position $q$, i.e no momentum should be used to initialise the particle model in this case."
   ]
  },
  {
   "cell_type": "code",
   "execution_count": null,
   "metadata": {},
   "outputs": [],
   "source": [
    "#\n",
    "#sampler = samplers.LeimkuhlerMatthews(model=particle, \n",
    "#                                     stepsize=h, \n",
    "#                                     inverse_temperature=1.0)\n",
    "#\n",
    "#sampler = samplers.EulerMaruyama(model=particle, \n",
    "#                                stepsize=h, \n",
    "#                                inverse_temperature=1.0)\n",
    "#\n",
    "#sampler = samplers.HeunsMethod(model=particle, \n",
    "#                              stepsize=h, \n",
    "#                              inverse_temperature=1.0)"
   ]
  },
  {
   "cell_type": "markdown",
   "metadata": {},
   "source": [
    "- Use $n_{\\text{particles}} = 1 \\times 10^6$, with the initial positon drawn from a normal distrobution with mean $\\pi$\n",
    "- Evolve the system up to physical time $t \\in \\{2, 4\\}$\n",
    "    - For the experiment $t=2$ use timesteps from the list $(1, 1/2, 1/3, 1/4, 1/5)$\n",
    "    - For the experiment $t=4$ use timesteps from the list $(2, 2/2, 2/3, 2/4, 2/5)$\n",
    "\n",
    "**Note**: The particles should be reinitialised for every stepsize experiment\n",
    "\n",
    "The goal of this excercise is to produce two plots for the two physical times given above. Each plot should show the convergence of the $L_2$ error in the denstity with respect to the timestep for the three different methods. The normalised histogram for the reference solutions can be found in the top directory - use this as your exact solution in this experiment.\n",
    "\n",
    "**Note**: a reference solution can be loaded via:"
   ]
  },
  {
   "cell_type": "code",
   "execution_count": null,
   "metadata": {},
   "outputs": [],
   "source": [
    "# reference = np.load('reference.npy',allow_pickle=False)"
   ]
  },
  {
   "cell_type": "markdown",
   "metadata": {},
   "source": [
    "**Note**: to compare your solution to the reference solution use the following qbins argument in the sample function"
   ]
  },
  {
   "cell_type": "code",
   "execution_count": null,
   "metadata": {},
   "outputs": [],
   "source": [
    "# q_bins = np.arange(0.0,2.0*np.pi,0.5)"
   ]
  }
 ],
 "metadata": {
  "anaconda-cloud": {},
  "kernelspec": {
   "display_name": "Python 3",
   "language": "python",
   "name": "python3"
  },
  "language_info": {
   "codemirror_mode": {
    "name": "ipython",
    "version": 3
   },
   "file_extension": ".py",
   "mimetype": "text/x-python",
   "name": "python",
   "nbconvert_exporter": "python",
   "pygments_lexer": "ipython3",
   "version": "3.5.2"
  }
 },
 "nbformat": 4,
 "nbformat_minor": 2
}
