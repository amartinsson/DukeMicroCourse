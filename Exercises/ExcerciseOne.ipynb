{
 "cells": [
  {
   "cell_type": "code",
   "execution_count": null,
   "metadata": {},
   "outputs": [],
   "source": [
    "# import numpy and matplotlib\n",
    "import numpy as np\n",
    "import matplotlib.pyplot as plt\n",
    "\n",
    "# import mini MD modules\n",
    "from miniMD import models\n",
    "from miniMD import samplers"
   ]
  },
  {
   "cell_type": "markdown",
   "metadata": {},
   "source": [
    "# Excercise 1.1:\n",
    "\n",
    "- Implement ABOBA and OBABO.\n",
    "\n",
    "The Langevin Dynamics methods can be used in the following way:"
   ]
  },
  {
   "cell_type": "code",
   "execution_count": null,
   "metadata": {},
   "outputs": [],
   "source": [
    "# Initial conditions for one particle\n",
    "q_0 = np.array([0.0])\n",
    "p_0 = np.array([0.5])\n",
    "\n",
    "# initialise the particle model\n",
    "particle = models.HarmonicOscillator(q=q_0,\n",
    "                                    p=p_0)\n",
    "\n",
    "# build the sampler\n",
    "sampler = samplers.BAOAB(model=particle, \n",
    "                         stepsize=0.16, \n",
    "                         inverse_temperature=1.0,\n",
    "                         friction_constant=1.0)\n",
    "\n",
    "# sample the system\n",
    "q_trajectory, p_trajectory = sampler.sample(nsteps=1000)\n",
    "\n",
    "# plot q and p trajectories\n",
    "plt.figure()\n",
    "plt.plot(q_trajectory)\n",
    "plt.show()\n",
    "\n",
    "plt.figure()\n",
    "plt.plot(p_trajectory)\n",
    "plt.show()"
   ]
  },
  {
   "cell_type": "markdown",
   "metadata": {},
   "source": [
    "Use the structure below to implement the ABOBA and OBABO methods, the BAOAB integration scheme is implemented in the following way:"
   ]
  },
  {
   "cell_type": "code",
   "execution_count": null,
   "metadata": {},
   "outputs": [],
   "source": [
    "\"\"\"\n",
    "class BAOAB(LangevinIntegrator):\n",
    "\n",
    "    def integrate(self):\n",
    "    \n",
    "        alpha = np.exp(-self._friction_constant * self._stepsize) \n",
    "    \n",
    "        # pre force integration steps\n",
    "        self._model.p += .5 * self._stepsize * self._model.f\n",
    "        self._model.q += .5 * self._stepsize * self._model.p\n",
    "        self._model.p = alpha * self._model.p + np.sqrt(1.0 - alpha * alpha) \n",
    "                        * np.random.normal(0, 1, self._model._dim)\n",
    "        self._model.q += .5 * self._stepsize * self._model.p\n",
    "\n",
    "        # force update\n",
    "        self._model.apply_boundary_conditions()\n",
    "        self._model.update_force()\n",
    "\n",
    "        # post-force integration steps\n",
    "        self._model.p += .5 * self._stepsize * self._model.f \n",
    "\"\"\"\n",
    "# Use this structure to define the ABOBA and OBABO integrators\n",
    "\n",
    "class ABOBA(samplers.LangevinIntegrator):\n",
    "    \"\"\" The ABOBA Langevin Integrator class\n",
    "    \"\"\"\n",
    "    \n",
    "    def integrate(self):\n",
    "        raise NotImplementedError()\n",
    "\n",
    "class OBABO(samplers.LangevinIntegrator):\n",
    "    \"\"\" The OBABO Langevin Integrator class\n",
    "    \"\"\"\n",
    "    \n",
    "    def integrate(self):\n",
    "         raise NotImplementedError()"
   ]
  },
  {
   "cell_type": "markdown",
   "metadata": {},
   "source": [
    "# Excercise 1.2\n",
    "\n",
    "- Plot the invariant density for each method using $V(x)= \\cos(x)$ and $\\beta=1$\n",
    "\n",
    "The reference invariant measure in for this model is $\\rho_{\\beta=1}(x) = Z^{-1} e^{-V(x)}$ where $V(x) = \\cos(x)$ and the normalisation constant $Z \\approx 7.954926521012846$\n",
    "\n",
    "**Note**: The cosine potential has been implemented in *models.CosineModel*"
   ]
  },
  {
   "cell_type": "code",
   "execution_count": null,
   "metadata": {},
   "outputs": [],
   "source": [
    "# Initial conditions for one particle\n",
    "q_0 = np.array([0.0])\n",
    "\n",
    "# initialise the particle\n",
    "particle = models.CosineModel(q=q_0)"
   ]
  },
  {
   "cell_type": "markdown",
   "metadata": {},
   "source": [
    "# Excercise 1.3\n",
    "\n",
    "- vary the friction constant $\\gamma$\n",
    "\n",
    "How does this affect the invariant distribution of the different methods?"
   ]
  },
  {
   "cell_type": "code",
   "execution_count": null,
   "metadata": {},
   "outputs": [],
   "source": []
  },
  {
   "cell_type": "markdown",
   "metadata": {},
   "source": [
    "# Excercise 1.4\n",
    "\n",
    "- Calculate the convergence with timestep $h$ for all the methods for the observable $<q^2>$\n",
    "\n",
    "Using the same potential as above $V(x) = \\cos(x)$ the exact expectation is $<q^2>_{\\text{exact}} = 11.4738587000$"
   ]
  },
  {
   "cell_type": "code",
   "execution_count": null,
   "metadata": {},
   "outputs": [],
   "source": []
  }
 ],
 "metadata": {
  "anaconda-cloud": {},
  "kernelspec": {
   "display_name": "Python 3",
   "language": "python",
   "name": "python3"
  },
  "language_info": {
   "codemirror_mode": {
    "name": "ipython",
    "version": 3
   },
   "file_extension": ".py",
   "mimetype": "text/x-python",
   "name": "python",
   "nbconvert_exporter": "python",
   "pygments_lexer": "ipython3",
   "version": "3.5.2"
  }
 },
 "nbformat": 4,
 "nbformat_minor": 2
}
