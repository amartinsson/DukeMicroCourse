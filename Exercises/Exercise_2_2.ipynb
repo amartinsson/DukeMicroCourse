{
 "cells": [
  {
   "cell_type": "code",
   "execution_count": null,
   "metadata": {
    "collapsed": true
   },
   "outputs": [],
   "source": [
    "# import numpy and matplotlib\n",
    "import numpy as np\n",
    "import matplotlib.pyplot as plt\n",
    "\n",
    "# import mini MD modules\n",
    "from miniMD import models\n",
    "from miniMD import samplers\n",
    "# import function to compute autocorrelation\n",
    "from miniMD.samplers import autocorr"
   ]
  },
  {
   "cell_type": "markdown",
   "metadata": {},
   "source": [
    "## Exercise 2.2:\n",
    "In this exercise we will explore how the Ensemble Quasi Newton introduced in the lecture (see also \n",
    "https://link.springer.com/article/10.1007/s11222-017-9730-1) can improve the sampling in the case of not well conditioned target distributions. We will focus on the case of a Gaussian target density, i.e.,  \n",
    "\n",
    "$$\n",
    "\\rho_{target}(x) \\propto e^{- \\frac{1}{2}x^{T}\\Omega x}\n",
    "$$\n",
    "\n",
    "where the matrix $\\Omega$ has a large condition number. Such a target density can be specified using the code below:\n",
    "\n"
   ]
  },
  {
   "cell_type": "code",
   "execution_count": null,
   "metadata": {
    "collapsed": true
   },
   "outputs": [],
   "source": [
    "#Specify precision matrix of multivariate Gaussian target density \n",
    "M = 100.0\n",
    "Omega = np.array([[1/M,0.0],\n",
    "                  [0.0,1.0]])\n",
    "#Specify initial condition \n",
    "q_0 = np.array([0.0,0.0])\n",
    "p_0 = np.array([0.0,0.0])\n",
    "model = models.HarmonicOscillatorMultiDim(q=q_0,\n",
    "                                    p=p_0, Omega=Omega)"
   ]
  },
  {
   "cell_type": "markdown",
   "metadata": {},
   "source": [
    "A version of the Ensemble Quasi Newton method with non-local covariance estimates is implemented as EnsembleQuasiNewton as a subclass of the class UnderdampedLangevinSampler within the module miniMD.sampler. This sampler can be initialized by providing a collection of copies of the model to be sampled and a the usual parameters for Langevin samplers:"
   ]
  },
  {
   "cell_type": "code",
   "execution_count": null,
   "metadata": {
    "collapsed": false
   },
   "outputs": [],
   "source": [
    "eqn_sampler = samplers.EnsembleQuasiNewton(repmodel=replicated_model, \n",
    "                         stepsize=.1, \n",
    "                         inverse_temperature=1.0,\n",
    "                         friction_constant=1.0, \n",
    "                        ) "
   ]
  },
  {
   "cell_type": "markdown",
   "metadata": {},
   "source": [
    "The above code probably returned an error message since we haven't specified the object \"replicated_model\" yet. The argument \"repmodel\" in the initialisation of \"EnsembleQuasiNewton\" is required to be an instance of a subclass of \"models.ReplicatedModel\". We can create an instance of \"models.ReplicatedModel\" using the code below"
   ]
  },
  {
   "cell_type": "code",
   "execution_count": null,
   "metadata": {
    "collapsed": true
   },
   "outputs": [],
   "source": [
    "replicated_model = models.ReplicatedModel(model, # model specifying target density \n",
    "                                          nreplicas=1 # number of replicas/copies to be created\n",
    "                                         )"
   ]
  },
  {
   "cell_type": "markdown",
   "metadata": {},
   "source": [
    "After initialising \"eqn_sampler\" you can use this object to sample from your target density, e.g.,"
   ]
  },
  {
   "cell_type": "code",
   "execution_count": null,
   "metadata": {
    "collapsed": false
   },
   "outputs": [],
   "source": [
    "q_trajectory, p_trajectory = eqn_sampler.sample(nsteps=10000) # sample the system"
   ]
  },
  {
   "cell_type": "markdown",
   "metadata": {},
   "source": [
    "### Task 1\n",
    "\n",
    "For fixed stepsize $\\Delta t = .1$ compare the performance of a standard BAOAB integrator (Hint: for nreplicas=1, the EnsembleQuasiNewton method is identical to standard BAOAB) and the Ensemble Quasi Newton method for the 2-dimensional Multivariate Gaussian specified above by inspecting trace plots of $x_1$ and $x_2$ and/or the autocorrelation function of these variables.\n",
    "-  vary the condition number of $\\Omega$ by changing the value of $M$ (Hint: better only increase M, so that you don't run into stability issues). How does this affect the performance of standard BAOAB and the Ensemble Quasi Newton method, respectively?\n",
    "- How sensitive is the performance of the Ensemble Quasi Newton method on the number of replicas? \n",
    "- __Optional__: You can experiment with changing the frequency at which the preconditioning matrix is updated by modifying the optional argument \"B_update_mod\" when initializing the EQN sampler (The deault value is B_update_mod=1). "
   ]
  },
  {
   "cell_type": "code",
   "execution_count": null,
   "metadata": {
    "collapsed": true
   },
   "outputs": [],
   "source": []
  }
 ],
 "metadata": {
  "anaconda-cloud": {},
  "kernelspec": {
   "display_name": "Python [conda env:anaconda]",
   "language": "python",
   "name": "conda-env-anaconda-py"
  },
  "language_info": {
   "codemirror_mode": {
    "name": "ipython",
    "version": 3
   },
   "file_extension": ".py",
   "mimetype": "text/x-python",
   "name": "python",
   "nbconvert_exporter": "python",
   "pygments_lexer": "ipython3",
   "version": "3.5.2"
  }
 },
 "nbformat": 4,
 "nbformat_minor": 2
}
