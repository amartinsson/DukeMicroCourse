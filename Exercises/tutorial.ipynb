{
 "cells": [
  {
   "cell_type": "markdown",
   "metadata": {},
   "source": [
    "# Introduction: miniMD\n",
    "\n",
    "This is a brief introduction to the lightweight package miniMD which can be used to investigate the porperties of different numerical schemes. Currently the only dependency is numpy (this might change in the future). First we begin by importing numpy and pyplot to be able to plot the output."
   ]
  },
  {
   "cell_type": "code",
   "execution_count": null,
   "metadata": {
    "collapsed": true
   },
   "outputs": [],
   "source": [
    "import numpy as np\n",
    "import matplotlib.pyplot as plt"
   ]
  },
  {
   "cell_type": "markdown",
   "metadata": {},
   "source": [
    "The miniMD consists of two small python clases, models and samplers. \n",
    "- The model: Holds data and the model function which the data is subject to. In molecular dynamics the data is the position of the particles and the model function is the potential function.\n",
    "- The samplers: Operates on the model by evolving its data according to some specified sampling method. It stores the trajectory of the model data.\n",
    "\n",
    "The workflow consisits of first initialising the model and then feeding it to the sampler. The sampler then provides access to the \"sampling\" function which returns the dynamical trajectory of the given model.\n",
    "\n",
    "Import the package with the following commands:"
   ]
  },
  {
   "cell_type": "code",
   "execution_count": null,
   "metadata": {
    "collapsed": true
   },
   "outputs": [],
   "source": [
    "# import mini MD modules\n",
    "from miniMD import models\n",
    "from miniMD import samplers"
   ]
  },
  {
   "cell_type": "markdown",
   "metadata": {},
   "source": [
    "Let us build a simple 2 particle model by providing two initial conditions as a np.arrays."
   ]
  },
  {
   "cell_type": "code",
   "execution_count": null,
   "metadata": {
    "collapsed": true
   },
   "outputs": [],
   "source": [
    "# Initial conditions for two particles\n",
    "q_0 = np.array([-1.0,1.0])"
   ]
  },
  {
   "cell_type": "markdown",
   "metadata": {},
   "source": [
    "The particle model is then formed by specifying the potential function and combinding it with the intial conditon. Here use the $q_0$ from above and combine it with the potential function for the Harmonic Oscillator $V(x) = \\sum_{i=1}^{2}\\frac{x_i}{2}$.\n",
    "\n",
    "The model is completed by initialising it in the following way:"
   ]
  },
  {
   "cell_type": "code",
   "execution_count": null,
   "metadata": {
    "collapsed": true
   },
   "outputs": [],
   "source": [
    "# initialise the particle model\n",
    "particle = models.HarmonicOscillator(q=q_0)"
   ]
  },
  {
   "cell_type": "markdown",
   "metadata": {},
   "source": [
    "Now we wish to sample the particle model we built above. This means chosing an integration method from the samplers class and feeding the model object to it. In addition to the model object we also need to specify a timestep to ALL samplers:\n",
    "- stepsize - the discrete timestep which the sampler uses to evolve the model dataforward in time.\n",
    "\n",
    "**Note**: No matter what sampler you use or implement one must always provide both a model and timestep.\n",
    "\n",
    "We have already implemented a few integrators in the samplers class, some of which need a different number of parameters, depending on the requirements of the underlying integrator. \n",
    "\n",
    "To begin with let us chose the standard numerical SDE scheme, *Euler-Maruyama*, which only requires us to specify the inverse temperture, $\\beta$, in addition to the required model and stepsize parameters."
   ]
  },
  {
   "cell_type": "code",
   "execution_count": null,
   "metadata": {
    "collapsed": true
   },
   "outputs": [],
   "source": [
    "# initialise sampler specifying the timestep stepsize as 0.1\n",
    "# and inverse temperature as 1.0\n",
    "sampler = samplers.EulerMaruyama(model=particle,\n",
    "                                 stepsize=0.1,\n",
    "                                 inverse_temperature=1.0)"
   ]
  },
  {
   "cell_type": "markdown",
   "metadata": {},
   "source": [
    "## Trajectory Output\n",
    "So what can we do with the sampler object?\n",
    "\n",
    "Well, the sampler gives us access to the sample function which returns a trajectory in phase-space, using the numerical integrator scheme specified in the sampler object (here *Euler-Maruyama*). To use the sample function we need to provide the number of steps of size stepsize we wish the system to take.\n",
    "\n",
    "Calling the sample function with the parameter $\\text{n}_{\\text{steps}}$ returns a trajectory in the form of a np.array of size $[\\text{n}_\\text{particles}, \\text{n}_{\\text{steps}}]$. Below we store this in the q_trajectory parameter."
   ]
  },
  {
   "cell_type": "code",
   "execution_count": null,
   "metadata": {
    "collapsed": true
   },
   "outputs": [],
   "source": [
    "# sample the system\n",
    "q_trajectory = sampler.sample(nsteps=1000)"
   ]
  },
  {
   "cell_type": "markdown",
   "metadata": {},
   "source": [
    "Plot the trajectory of the two particles using matplotlib"
   ]
  },
  {
   "cell_type": "code",
   "execution_count": null,
   "metadata": {
    "collapsed": true
   },
   "outputs": [],
   "source": [
    "# plot the trajectory\n",
    "plt.figure()\n",
    "plt.plot(q_trajectory)\n",
    "plt.show()"
   ]
  },
  {
   "cell_type": "markdown",
   "metadata": {},
   "source": [
    "## Cumulative Histogram Output\n",
    "The sampler also gives us the possibility to return the trajectory in the form of a cumulative histogram. This is achived by specifying the histogram bins and the outputmode in the sample function.\n",
    "\n",
    "Specify the output bins as a np.array:"
   ]
  },
  {
   "cell_type": "code",
   "execution_count": null,
   "metadata": {
    "collapsed": true
   },
   "outputs": [],
   "source": [
    "# initialise the histogram bins\n",
    "q_bins = np.arange(-5.0,5.0,0.1)"
   ]
  },
  {
   "cell_type": "markdown",
   "metadata": {},
   "source": [
    "We then simply feed these bins into the sample function and specify that we want to return the trajectory as a cumulative histogram."
   ]
  },
  {
   "cell_type": "code",
   "execution_count": null,
   "metadata": {
    "collapsed": true
   },
   "outputs": [],
   "source": [
    "# resample the model and return the\n",
    "# sampled trajectory as a cumulative histogram\n",
    "q_histogram = sampler.sample(nsteps=1000,\n",
    "                             outputmode=\"cumulative_histogram\",\n",
    "                             qbins=q_bins)"
   ]
  },
  {
   "cell_type": "markdown",
   "metadata": {},
   "source": [
    "Plot the cumulative histogram.\n",
    "\n",
    "**Note**: np.histogram treats the q_bins given to it as the upper bin bound. Therefore we need to modify the q_bins array to be able to plot the histogram."
   ]
  },
  {
   "cell_type": "code",
   "execution_count": null,
   "metadata": {
    "collapsed": true
   },
   "outputs": [],
   "source": [
    "# plot the cummulative histogram over the two trajectories\n",
    "# accounting for the interpretation of the q_bins vector by np.histogram\n",
    "plt.figure()\n",
    "deltaq = .5 * (q_bins[1] - q_bins[0])\n",
    "plt.plot(q_bins[0:-1]+deltaq,q_histogram)\n",
    "plt.show()"
   ]
  },
  {
   "cell_type": "markdown",
   "metadata": {},
   "source": [
    "## Histogram Output\n",
    "\n",
    "It is also possible to specify the returned output as histogram. This command returns the histogram of all the particles at the last timestep, $\\text{n}_{\\text{steps}}$.\n",
    "\n",
    "**Note**: This output option isn't very useful when only using two particles as the output will only have two non-zero bins.\n",
    "\n",
    "Alternatively, one can also specify the output mode as outputmode=\"cumulative_histogram\". In this case histogram data is accumulated over the whole range of the trajectory"
   ]
  },
  {
   "cell_type": "code",
   "execution_count": null,
   "metadata": {
    "collapsed": true
   },
   "outputs": [],
   "source": [
    "# resample the model and return the\n",
    "# sampled trajectory as a histogram\n",
    "q_bins = np.arange(-5.0,5.0,0.1)\n",
    "q_histogram = sampler.sample(nsteps=1000,\n",
    "                             outputmode=\"histogram\",\n",
    "                             qbins=q_bins)\n",
    "\n",
    "# plot the histogram at nsteps for the two trajectories\n",
    "# accounting for the interpretation of the q_bins vector by np.histogram\n",
    "plt.figure()\n",
    "deltaq = .5 * (q_bins[1] - q_bins[0])\n",
    "plt.plot(q_bins[0:-1]+deltaq,q_histogram)\n",
    "plt.show()"
   ]
  }
 ],
 "metadata": {
  "anaconda-cloud": {},
  "kernelspec": {
   "display_name": "Python 3",
   "language": "python",
   "name": "python3"
  },
  "language_info": {
   "codemirror_mode": {
    "name": "ipython",
    "version": 3
   },
   "file_extension": ".py",
   "mimetype": "text/x-python",
   "name": "python",
   "nbconvert_exporter": "python",
   "pygments_lexer": "ipython3",
   "version": "3.5.2"
  }
 },
 "nbformat": 4,
 "nbformat_minor": 2
}
